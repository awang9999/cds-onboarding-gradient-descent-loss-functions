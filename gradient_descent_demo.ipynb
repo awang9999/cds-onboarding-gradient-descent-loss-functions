{
 "cells": [
  {
   "cell_type": "markdown",
   "id": "0fc66306-b7a6-494c-9ac6-db5c9ffcb526",
   "metadata": {
    "tags": []
   },
   "source": [
    "# Gradient Descent and Loss Functions\n",
    "\n",
    "Authors: [Alexander Wang](https://github.com/awang9999), [Winnie Chow](https://github.com/winnie0617)\n",
    "\n",
    "This module introduces the gradient descent algorithm for optimization and loss functions within the context of machine learning. This material is intended to be delivered on April 16, 2022 at a Cornell Data Science onboarding presentation, but is sufficient as standalone material as well.\n",
    "\n",
    "Topics covered:\n",
    "* Loss functions (MSE, MAE, Binary Cross Entropy, Hinge Loss)\n",
    "* Gradient Descent (general algorithm and intuition, proof of convergence omitted)\n",
    "* Gradient Descent variants (SGD, Mini-batched SGD)\n",
    "* Brief discussion on Newton's method\n",
    "* Example of applying gradient descent to solve the optimization problem for multidimensional linear regression (using MSE loss).\n",
    "\n",
    "Associated slides for this presentation can be found [here](https://docs.google.com/presentation/d/1Er7sTuaL892dptan2unGSKmaC3BG7pKy8oNUIteFOhA/edit#slide=id.p)."
   ]
  },
  {
   "cell_type": "markdown",
   "id": "583ad4fa-8027-4d12-8048-e3fbba49d416",
   "metadata": {},
   "source": [
    "### Part 1: Motivation\n",
    "\n",
    "Up until now “training” models have largely been a black box. We talk about it all the time, but how do we REALLY adjust the parameters of a model? What is a good measure for how well a model predicts the training data? How do we adjust the model parameters based on the model’s performance in predicting the training data automatically?\n",
    "\n",
    "This module aims to answer these questions."
   ]
  },
  {
   "cell_type": "markdown",
   "id": "0bc7a327-f17a-4612-8041-3365a9c36830",
   "metadata": {},
   "source": [
    "### Part 2: Consider this problem\n",
    "\n"
   ]
  },
  {
   "cell_type": "code",
   "execution_count": 1,
   "id": "44d20dba-ac6f-4e4b-8e7f-fb503778f7a6",
   "metadata": {},
   "outputs": [
    {
     "name": "stdout",
     "output_type": "stream",
     "text": [
      "3.9.5 (default, Jan  2 2022, 22:23:27) \n",
      "[GCC 11.1.0]\n"
     ]
    }
   ],
   "source": [
    "import sys\n",
    "print(sys.version)\n",
    "# Require versions 3.7, 3.8 or 3.9"
   ]
  },
  {
   "cell_type": "code",
   "execution_count": 3,
   "id": "fab53049-411f-4a51-835d-315ee6009037",
   "metadata": {},
   "outputs": [],
   "source": [
    "import numpy as np"
   ]
  },
  {
   "cell_type": "code",
   "execution_count": null,
   "id": "38302689-983a-4da2-963e-b9548bd6808b",
   "metadata": {},
   "outputs": [],
   "source": []
  }
 ],
 "metadata": {
  "kernelspec": {
   "display_name": "gdvenv",
   "language": "python",
   "name": "gdvenv"
  },
  "language_info": {
   "codemirror_mode": {
    "name": "ipython",
    "version": 3
   },
   "file_extension": ".py",
   "mimetype": "text/x-python",
   "name": "python",
   "nbconvert_exporter": "python",
   "pygments_lexer": "ipython3",
   "version": "3.9.5"
  }
 },
 "nbformat": 4,
 "nbformat_minor": 5
}
